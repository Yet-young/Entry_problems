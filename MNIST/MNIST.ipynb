{
 "cells": [
  {
   "cell_type": "code",
   "execution_count": 2,
   "id": "57d9c979-e9ad-49e4-9a4e-70cc2fa7e1e3",
   "metadata": {
    "scrolled": true
   },
   "outputs": [],
   "source": [
    "from mnist import MNIST\n",
    "import matplotlib.pyplot as plt\n",
    "import numpy as np\n",
    "import random\n",
    "\n",
    "\n",
    "file_dir = \"C:\\\\Users\\\\Yet Young\\\\Desktop\\\\documents\\\\ML\\\\MNIST_data\"\n",
    "mndata = MNIST(file_dir)\n",
    "\n",
    "images, labels = mndata.load_training()\n",
    "images = np.array(images)\n",
    "labels = np.array(labels)\n",
    "\n",
    "test_sizes = 10000\n",
    "test_images = images[-test_sizes:]\n",
    "test_labels = labels[-test_sizes:]\n",
    "\n",
    "train_sizes = len(images) - test_sizes\n",
    "train_images = images[:train_sizes]\n",
    "train_labels = labels[:train_sizes]"
   ]
  },
  {
   "cell_type": "code",
   "execution_count": 3,
   "id": "ae29cdb0",
   "metadata": {
    "scrolled": true
   },
   "outputs": [
    {
     "data": {
      "image/png": "[encoded data removed]",
      "text/plain": [
       "<Figure size 640x480 with 1 Axes>"
      ]
     },
     "metadata": {},
     "output_type": "display_data"
    }
   ],
   "source": [
    "re_image = images.reshape((60000,28, 28))  \n",
    "# print images\n",
    "plt.imshow(re_image[0], cmap='gray')\n",
    "plt.title(f'Label: {labels[0]}')\n",
    "plt.axis('off')\n",
    "plt.show()"
   ]
  },
  {
   "cell_type": "code",
   "execution_count": 4,
   "id": "458fe5d1",
   "metadata": {},
   "outputs": [],
   "source": [
    "#turning into one hot coding\n",
    "total_labels = 10\n",
    "one_hot_labels = np.zeros((len(images), total_labels))\n",
    "for image in range(len(images)):\n",
    "    for label in range(total_labels):\n",
    "        if labels[image] == label:\n",
    "            one_hot_labels[image][label] = 1\n",
    "        else:\n",
    "            one_hot_labels[image][label] = 0\n",
    "\n",
    "one_hot_labels_train = one_hot_labels[:train_sizes]\n",
    "one_hot_labels_test = one_hot_labels[train_sizes:]"
   ]
  },
  {
   "cell_type": "code",
   "execution_count": 5,
   "id": "1cb73385",
   "metadata": {},
   "outputs": [],
   "source": [
    "class BP_Network():\n",
    "    def __init__(self, sizes):\n",
    "        self.sizes = sizes\n",
    "        self.parameters = self.initalize()\n",
    "        self.cache={\n",
    "        \"X\" : np.zeros((self.sizes[4], self.sizes[0])),\n",
    "        \"z1\" : np.zeros((self.sizes[4], self.sizes[1])),\n",
    "        \"a1\" : np.zeros((self.sizes[4], self.sizes[1])), \n",
    "        \"z2\" : np.zeros((self.sizes[4], self.sizes[2])),\n",
    "        \"a2\" : np.zeros((self.sizes[4], self.sizes[2])),\n",
    "        \"W3\" : np.zeros((self.sizes[4], self.sizes[3])),\n",
    "        \"b3\" : np.zeros((self.sizes[4], self.sizes[3])),\n",
    "        }\n",
    "        self.loss_history = []\n",
    "    \n",
    "    def initalize(self):\n",
    "        input_layers = self.sizes[0]\n",
    "        hidden_layer_1 = self.sizes[1]\n",
    "        hidden_layer_2 = self.sizes[2]\n",
    "        output_layers = self.sizes[3]\n",
    "        data_size = self.sizes[4]\n",
    "        \n",
    "        np.random.seed(40)\n",
    "        parameters = {\n",
    "        \"W1\": np.random.randn(input_layers,hidden_layer_1)* 0.01,\n",
    "        \"b1\": np.zeros((1, hidden_layer_1)),\n",
    "        \"W2\": np.random.randn(hidden_layer_1,hidden_layer_2)* 0.01,\n",
    "        \"b2\": np.zeros((1, hidden_layer_2)),\n",
    "        \"W3\": np.random.randn(hidden_layer_2,output_layers)* 0.01,\n",
    "        \"b3\": np.zeros((1, output_layers)),       \n",
    "        }\n",
    "        return parameters\n",
    "    \n",
    "    def relu(self, x):\n",
    "        return np.maximum(0, x)    \n",
    "    \n",
    "    def Forward(self,x):\n",
    "        self.cache['X'] = x\n",
    "        \n",
    "        self.cache['z1'] = self.cache['X'].dot(self.parameters['W1'])+self.parameters['b1']\n",
    "        self.cache['a1'] = self.relu(self.cache['z1'])\n",
    "        \n",
    "        self.cache['z2'] = self.cache['a1'].dot(self.parameters['W2'])+self.parameters['b2']\n",
    "        self.cache['a2'] = self.relu(self.cache['z2'])\n",
    "        \n",
    "        self.cache['z3'] = self.cache['a2'].dot(self.parameters['W3'])+self.parameters['b3']\n",
    "        self.cache['a3'] = self.softmax(self.cache['z3'])  \n",
    "        \n",
    "        return self.cache['a3']\n",
    "\n",
    "\n",
    "    def softmax(self, x):\n",
    "        max_values = np.max(x, axis=1, keepdims=True)\n",
    "        exps = np.exp(x - max_values)\n",
    "        sum_exps = np.sum(exps, axis=1, keepdims=True)\n",
    "        return exps / sum_exps\n",
    "    \n",
    "    def relu_derivative(self, x):\n",
    "        return np.where(x > 0, 1, 0)\n",
    "\n",
    "\n",
    "    def backpropagation(self, output, one_hot_labels, sizes,reg_lambda = 0.05, epsilon = 0.001):\n",
    "        delta3 = (output - one_hot_labels)/sizes\n",
    "        dW3 = np.dot((self.cache['a2'].T),delta3)\n",
    "        db3 = np.sum(delta3,axis=0)\n",
    "        delta2 = delta3.dot(self.parameters['W3'].T)*self.relu_derivative(self.cache['z2'])\n",
    "        dW2 = np.dot(self.cache['a1'].T,delta2)\n",
    "        db2 = np.sum(delta2,axis=0)    \n",
    "        delta1 = delta2.dot(self.parameters['W2'].T)*self.relu_derivative(self.cache['z1'])\n",
    "        dW1 = np.dot(self.cache['X'].T,delta1)\n",
    "        db1 = np.sum(delta1,axis=0)     \n",
    "    \n",
    "        dW3 += reg_lambda*self.parameters['W3']\n",
    "        dW2 += reg_lambda*self.parameters['W2']\n",
    "        dW1 += reg_lambda*self.parameters['W1']\n",
    "        \n",
    "        \n",
    "        \n",
    "        \n",
    "        self.parameters['W1'] += -epsilon*dW1\n",
    "        self.parameters['b1'] += -epsilon*db1\n",
    "        self.parameters['W2'] += -epsilon*dW2\n",
    "        self.parameters['b2'] += -epsilon*db2\n",
    "        self.parameters['W3'] += -epsilon*dW3\n",
    "        self.parameters['b3'] += -epsilon*db3\n",
    "        \n",
    "\n",
    "    \n",
    "    def accuracy(self,one_hot_labels, output):\n",
    "        return np.mean(np.argmax(one_hot_labels, axis=-1) == np.argmax(output, axis=-1))\n",
    "    \n",
    "    def calculate_loss(self, output, train_labels):\n",
    "        loss = -np.mean(np.log(output[range(len(train_labels)), train_labels] + 1e-10))\n",
    "        self.loss_history.append(loss)\n",
    "        return loss\n",
    "        "
   ]
  },
  {
   "cell_type": "code",
   "execution_count": 6,
   "id": "b03375ba",
   "metadata": {},
   "outputs": [
    {
     "name": "stdout",
     "output_type": "stream",
     "text": [
      "Epoch 1, Loss: 0.2298, Accuracy: 93.33%\n",
      "Epoch 2, Loss: 0.1319, Accuracy: 96.17%\n",
      "Epoch 3, Loss: 0.1040, Accuracy: 97.04%\n",
      "Epoch 4, Loss: 0.0812, Accuracy: 97.68%\n",
      "Epoch 5, Loss: 0.0650, Accuracy: 98.19%\n",
      "Epoch 6, Loss: 0.0708, Accuracy: 97.96%\n",
      "Epoch 7, Loss: 0.0563, Accuracy: 98.39%\n",
      "Epoch 8, Loss: 0.0442, Accuracy: 98.82%\n",
      "Epoch 9, Loss: 0.0439, Accuracy: 98.80%\n",
      "Epoch 10, Loss: 0.0395, Accuracy: 98.97%\n",
      "Epoch 11, Loss: 0.0320, Accuracy: 99.23%\n",
      "Epoch 12, Loss: 0.0290, Accuracy: 99.40%\n",
      "Epoch 13, Loss: 0.0283, Accuracy: 99.37%\n",
      "Epoch 14, Loss: 0.0255, Accuracy: 99.43%\n",
      "Epoch 15, Loss: 0.0262, Accuracy: 99.43%\n",
      "Epoch 16, Loss: 0.0216, Accuracy: 99.58%\n",
      "Epoch 17, Loss: 0.0206, Accuracy: 99.62%\n",
      "Epoch 18, Loss: 0.0199, Accuracy: 99.63%\n",
      "Epoch 19, Loss: 0.0175, Accuracy: 99.72%\n",
      "Epoch 20, Loss: 0.0218, Accuracy: 99.56%\n"
     ]
    },
    {
     "data": {
      "image/png": "[encoded data removed]",
      "text/plain": [
       "<Figure size 1200x500 with 2 Axes>"
      ]
     },
     "metadata": {},
     "output_type": "display_data"
    }
   ],
   "source": [
    "mnist_bp = BP_Network(sizes=[784, 128, 64, 10, train_sizes])\n",
    "parameters = mnist_bp.initalize()\n",
    "epochs = 20\n",
    "batch_size = 100\n",
    "\n",
    "accuracies = []\n",
    "losses = []\n",
    "for epoch in range(epochs):\n",
    "    # shuffle the data\n",
    "    indices = np.arange(len(train_images))\n",
    "    np.random.shuffle(indices)\n",
    "    shuffled_images = train_images[indices]\n",
    "    shuffled_labels = one_hot_labels_train[indices]\n",
    "\n",
    "    for start in range(0, len(train_images), batch_size):\n",
    "        end = start + batch_size\n",
    "        images_batch = shuffled_images[start:end]\n",
    "        labels_batch = shuffled_labels[start:end]\n",
    "\n",
    "        # Forward propagation on batch\n",
    "        output = mnist_bp.Forward(images_batch)\n",
    "\n",
    "        # Backpropagation on batch\n",
    "        mnist_bp.backpropagation(output, labels_batch, batch_size, 0.02, 0.005)\n",
    "\n",
    "    output = mnist_bp.Forward(train_images)\n",
    "    accuracy = mnist_bp.accuracy(one_hot_labels_train, output)\n",
    "    loss = mnist_bp.calculate_loss(output, train_labels)\n",
    "    \n",
    "    accuracies.append(accuracy)\n",
    "    losses.append(loss)\n",
    "    \n",
    "    print(f'Epoch {epoch+1}, Loss: {loss:.4f}, Accuracy: {accuracy*100:.2f}%')\n",
    "\n",
    "\n",
    "plt.figure(figsize=(12, 5))\n",
    "\n",
    "plt.subplot(1, 2, 1)\n",
    "plt.plot(range(epochs), losses, label='Loss')\n",
    "plt.title('Loss Curve')\n",
    "plt.xlabel('Epochs')\n",
    "plt.ylabel('Loss')\n",
    "plt.grid(True)\n",
    "\n",
    "\n",
    "plt.subplot(1, 2, 2)\n",
    "plt.plot(range(epochs), accuracies, label='Accuracy', color='orange')\n",
    "plt.title('Accuracy Curve')\n",
    "plt.xlabel('Epochs')\n",
    "plt.ylabel('Accuracy')\n",
    "plt.grid(True)\n",
    "\n",
    "plt.tight_layout()\n",
    "plt.show()"
   ]
  },
  {
   "cell_type": "code",
   "execution_count": 8,
   "id": "9481c2cc",
   "metadata": {},
   "outputs": [
    {
     "name": "stdout",
     "output_type": "stream",
     "text": [
      "Predict Accuracy: 97.83%\n"
     ]
    }
   ],
   "source": [
    "#predict\n",
    "output = mnist_bp.Forward(test_images)\n",
    "accuracy = mnist_bp.accuracy(one_hot_labels_test, output)\n",
    "print(f'Predict Accuracy: {accuracy*100:.2f}%')"
   ]
  }
 ],
 "metadata": {
  "kernelspec": {
   "display_name": "base",
   "language": "python",
   "name": "python3"
  },
  "language_info": {
   "codemirror_mode": {
    "name": "ipython",
    "version": 3
   },
   "file_extension": ".py",
   "mimetype": "text/x-python",
   "name": "python",
   "nbconvert_exporter": "python",
   "pygments_lexer": "ipython3",
   "version": "3.8.20"
  },
  "toc": {
   "base_numbering": 1,
   "nav_menu": {},
   "number_sections": true,
   "sideBar": true,
   "skip_h1_title": false,
   "title_cell": "Table of Contents",
   "title_sidebar": "Contents",
   "toc_cell": false,
   "toc_position": {},
   "toc_section_display": true,
   "toc_window_display": false
  },
  "varInspector": {
   "cols": {
    "lenName": 16,
    "lenType": 16,
    "lenVar": 40
   },
   "kernels_config": {
    "python": {
     "delete_cmd_postfix": "",
     "delete_cmd_prefix": "del ",
     "library": "var_list.py",
     "varRefreshCmd": "print(var_dic_list())"
    },
    "r": {
     "delete_cmd_postfix": ") ",
     "delete_cmd_prefix": "rm(",
     "library": "var_list.r",
     "varRefreshCmd": "cat(var_dic_list()) "
    }
   },
   "oldHeight": 122.85987800000001,
   "position": {
    "height": "144.072px",
    "left": "1131.8px",
    "right": "20px",
    "top": "121.994px",
    "width": "350px"
   },
   "types_to_exclude": [
    "module",
    "function",
    "builtin_function_or_method",
    "instance",
    "_Feature"
   ],
   "varInspector_section_display": "block",
   "window_display": false
  }
 },
 "nbformat": 4,
 "nbformat_minor": 5
}
