{
 "cells": [
  {
   "cell_type": "code",
   "execution_count": 1,
   "metadata": {},
   "outputs": [],
   "source": [
    "import torch\n",
    "import torch.nn as nn\n",
    "from torch.optim import SGD\n",
    "\n",
    "from torchvision import datasets, transforms\n",
    "transform = transforms.Compose([\n",
    "    transforms.ToTensor(),  # 将图片转换为 Tensor\n",
    "    transforms.Normalize((0.5,), (0.5,))  # 对图片进行归一化\n",
    "])"
   ]
  },
  {
   "cell_type": "code",
   "execution_count": 2,
   "metadata": {},
   "outputs": [],
   "source": [
    "from torch.utils.data import DataLoader\n",
    "from lightning.fabric import Fabric\n",
    "\n",
    "train_dataset = datasets.MNIST(root='./data', train=True, download=True, transform=transform)\n",
    "train_loader = DataLoader(train_dataset, batch_size=64, shuffle=True, num_workers=0)\n",
    "\n",
    "test_dataset = datasets.MNIST(root='./data', train=False, download=True, transform=transform)\n",
    "test_loader = DataLoader(test_dataset, batch_size=64, shuffle=False, num_workers=0)\n",
    "\n",
    "fabric = Fabric(accelerator='cuda')  \n",
    "all_batches = []\n",
    "for batch in test_loader:\n",
    "    batch_on_device = fabric.to_device(batch)\n",
    "    all_batches.append(batch_on_device)"
   ]
  },
  {
   "cell_type": "code",
   "execution_count": 3,
   "metadata": {},
   "outputs": [],
   "source": [
    "class LeNet(nn.Module):\n",
    "    def __init__(self, num_classes=10):\n",
    "        super(LeNet, self).__init__()\n",
    "        # 第一层卷积：输入通道为 1，输出通道为 6\n",
    "        self.conv1 = nn.Conv2d(1, 6, kernel_size=5)  # 输出尺寸: (6, 24, 24)\n",
    "        self.pool1 = nn.MaxPool2d(kernel_size=2, stride=2)  # 输出尺寸: (6, 12, 12)\n",
    "        \n",
    "        # 第二层卷积：输入通道为 6，输出通道为 16\n",
    "        self.conv2 = nn.Conv2d(6, 16, kernel_size=5)  # 输出尺寸: (16, 8, 8)\n",
    "        self.pool2 = nn.MaxPool2d(kernel_size=2, stride=2)  # 输出尺寸: (16, 4, 4)\n",
    "        \n",
    "        # 全连接层：根据卷积输出调整输入尺寸\n",
    "        self.fc1 = nn.Linear(16 * 4 * 4, 120)  # 展平后尺寸为 16 * 4 * 4 = 256\n",
    "        self.fc2 = nn.Linear(120, 84)\n",
    "        self.fc3 = nn.Linear(84, num_classes)\n",
    "\n",
    "    def forward(self, x):\n",
    "        x = self.pool1(torch.relu(self.conv1(x)))\n",
    "        x = self.pool2(torch.relu(self.conv2(x)))\n",
    "\n",
    "        x = x.view(x.size(0), -1)  \n",
    "        \n",
    "        x = torch.relu(self.fc1(x))\n",
    "        x = torch.relu(self.fc2(x))\n",
    "        x = self.fc3(x) \n",
    "        return x"
   ]
  },
  {
   "cell_type": "code",
   "execution_count": 4,
   "metadata": {},
   "outputs": [],
   "source": [
    "import pytorch_lightning as pl\n",
    "from pytorch_lightning.loggers import TensorBoardLogger"
   ]
  },
  {
   "cell_type": "code",
   "execution_count": 12,
   "metadata": {},
   "outputs": [],
   "source": [
    "class LeNetLightning(pl.LightningModule):\n",
    "    def __init__(self, num_classes=10):\n",
    "        super().__init__()\n",
    "        self.model = LeNet(num_classes=num_classes)  # use LeNet model that is self-defined\n",
    "        self.loss_fn = nn.CrossEntropyLoss()\n",
    "\n",
    "    def forward(self, x):\n",
    "        return self.model(x)\n",
    "\n",
    "    def training_step(self, batch, batch_idx):\n",
    "        x, y = batch\n",
    "        logits = self(x)\n",
    "        loss = self.loss_fn(logits, y)\n",
    "        accuracy = (logits.argmax(dim=1) == y).float().mean()\n",
    "        self.log(\"train_loss\", loss)\n",
    "        self.log(\"train_accuracy\", accuracy)\n",
    "        return loss\n",
    "\n",
    "    def configure_optimizers(self):\n",
    "        return SGD(self.parameters(), lr=0.02, momentum=0.9)\n"
   ]
  },
  {
   "cell_type": "code",
   "execution_count": 17,
   "metadata": {},
   "outputs": [
    {
     "name": "stderr",
     "output_type": "stream",
     "text": [
      "GPU available: True (cuda), used: True\n",
      "TPU available: False, using: 0 TPU cores\n",
      "HPU available: False, using: 0 HPUs\n",
      "LOCAL_RANK: 0 - CUDA_VISIBLE_DEVICES: [0]\n",
      "\n",
      "  | Name    | Type             | Params | Mode \n",
      "-----------------------------------------------------\n",
      "0 | model   | LeNet            | 44.4 K | train\n",
      "1 | loss_fn | CrossEntropyLoss | 0      | train\n",
      "-----------------------------------------------------\n",
      "44.4 K    Trainable params\n",
      "0         Non-trainable params\n",
      "44.4 K    Total params\n",
      "0.178     Total estimated model params size (MB)\n",
      "9         Modules in train mode\n",
      "0         Modules in eval mode\n"
     ]
    },
    {
     "data": {
      "application/vnd.jupyter.widget-view+json": {
       "model_id": "812ace6f4ac64363972e03238f4de891",
       "version_major": 2,
       "version_minor": 0
      },
      "text/plain": [
       "Training: |          | 0/? [00:00<?, ?it/s]"
      ]
     },
     "metadata": {},
     "output_type": "display_data"
    },
    {
     "name": "stderr",
     "output_type": "stream",
     "text": [
      "`Trainer.fit` stopped: `max_epochs=2` reached.\n"
     ]
    }
   ],
   "source": [
    "model = LeNetLightning()\n",
    "logger = TensorBoardLogger(\"mnist_logs\", name=\"lenet\")\n",
    "trainer = pl.Trainer(\n",
    "    devices=1,           \n",
    "    accelerator='gpu', \n",
    "    max_epochs=2, # set number of epochs\n",
    "   enable_progress_bar=True,\n",
    "   logger=logger \n",
    ")\n",
    "trainer.fit(model, train_loader)"
   ]
  },
  {
   "cell_type": "code",
   "execution_count": 18,
   "metadata": {},
   "outputs": [],
   "source": [
    "trainer.save_checkpoint(\"lenet_mnist.pt\")"
   ]
  },
  {
   "cell_type": "code",
   "execution_count": 19,
   "metadata": {},
   "outputs": [],
   "source": [
    "from tqdm.autonotebook import tqdm\n",
    "\n",
    "def get_prediction(x, model: pl.LightningModule):\n",
    "  model.freeze() # prepares model for predicting\n",
    "  probabilities = torch.softmax(model(x), dim=1)\n",
    "  predicted_class = torch.argmax(probabilities, dim=1)\n",
    "  return predicted_class, probabilities\n",
    "\n",
    "inference_model = LeNetLightning.load_from_checkpoint(\"lenet_mnist.pt\", map_location=\"cuda\")"
   ]
  },
  {
   "cell_type": "code",
   "execution_count": 20,
   "metadata": {},
   "outputs": [
    {
     "data": {
      "application/vnd.jupyter.widget-view+json": {
       "model_id": "d8420495b1af450ea86499a43c77da29",
       "version_major": 2,
       "version_minor": 0
      },
      "text/plain": [
       "  0%|          | 0/157 [00:00<?, ?it/s]"
      ]
     },
     "metadata": {},
     "output_type": "display_data"
    }
   ],
   "source": [
    "true_y, pred_y = [], []\n",
    "for batch in tqdm(iter(all_batches), total=len(all_batches)):\n",
    "  x, y = batch\n",
    "  true_y.extend(y.cpu())\n",
    "  preds, probs = get_prediction(x, inference_model)\n",
    "  pred_y.extend(preds.cpu())"
   ]
  },
  {
   "cell_type": "code",
   "execution_count": 21,
   "metadata": {},
   "outputs": [
    {
     "name": "stdout",
     "output_type": "stream",
     "text": [
      "              precision    recall  f1-score   support\n",
      "\n",
      "           0      0.995     0.986     0.990       980\n",
      "           1      0.995     0.996     0.996      1135\n",
      "           2      0.995     0.973     0.984      1032\n",
      "           3      0.994     0.969     0.981      1010\n",
      "           4      0.989     0.993     0.991       982\n",
      "           5      0.952     0.997     0.974       892\n",
      "           6      0.986     0.990     0.988       958\n",
      "           7      0.980     0.992     0.986      1028\n",
      "           8      0.971     0.980     0.975       974\n",
      "           9      0.986     0.969     0.978      1009\n",
      "\n",
      "    accuracy                          0.985     10000\n",
      "   macro avg      0.984     0.985     0.984     10000\n",
      "weighted avg      0.985     0.985     0.985     10000\n",
      "\n"
     ]
    }
   ],
   "source": [
    "from sklearn.metrics import classification_report\n",
    "print(classification_report(true_y, pred_y, digits=3))"
   ]
  },
  {
   "cell_type": "code",
   "execution_count": null,
   "metadata": {},
   "outputs": [],
   "source": []
  }
 ],
 "metadata": {
  "kernelspec": {
   "display_name": "base",
   "language": "python",
   "name": "python3"
  },
  "language_info": {
   "codemirror_mode": {
    "name": "ipython",
    "version": 3
   },
   "file_extension": ".py",
   "mimetype": "text/x-python",
   "name": "python",
   "nbconvert_exporter": "python",
   "pygments_lexer": "ipython3",
   "version": "3.8.20"
  }
 },
 "nbformat": 4,
 "nbformat_minor": 2
}
