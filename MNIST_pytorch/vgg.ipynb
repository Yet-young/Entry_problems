{
 "cells": [
  {
   "cell_type": "code",
   "execution_count": 8,
   "metadata": {},
   "outputs": [],
   "source": [
    "import torch\n",
    "import torch.nn as nn\n",
    "import torch.nn.functional as F\n",
    "\n",
    "from torchvision import datasets, transforms\n",
    "transform = transforms.Compose([\n",
    "    transforms.ToTensor(),  # 将图片转换为 Tensor\n",
    "    transforms.Normalize((0.5,), (0.5,)),  # 对图片进行归一化\n",
    "])"
   ]
  },
  {
   "cell_type": "code",
   "execution_count": 9,
   "metadata": {},
   "outputs": [],
   "source": [
    "from torch.utils.data import DataLoader\n",
    "from lightning.fabric import Fabric\n",
    "\n",
    "train_dataset = datasets.MNIST(root='./data', train=True, download=True, transform=transform)\n",
    "train_loader = DataLoader(train_dataset, batch_size=32, shuffle=True, num_workers=0)\n",
    "\n",
    "test_dataset = datasets.MNIST(root='./data', train=False, download=True, transform=transform)\n",
    "test_loader = DataLoader(test_dataset, batch_size=32, shuffle=False, num_workers=0)\n",
    "\n",
    "fabric = Fabric(accelerator='cuda')  \n",
    "all_batches = []\n",
    "for batch in test_loader:\n",
    "    batch_on_device = fabric.to_device(batch)\n",
    "    all_batches.append(batch_on_device)"
   ]
  },
  {
   "cell_type": "code",
   "execution_count": 10,
   "metadata": {},
   "outputs": [
    {
     "name": "stdout",
     "output_type": "stream",
     "text": [
      "torch.Size([1, 28, 28])\n"
     ]
    }
   ],
   "source": [
    "# 在数据加载之前查看图像形状\n",
    "sample_image = datasets.MNIST(root='./data', train=True, download=True, transform=transform)[0][0]\n",
    "print(train_dataset[0][0].shape)  # 查看输出的形状，确保它是 (3, 224, 224)"
   ]
  },
  {
   "cell_type": "code",
   "execution_count": 11,
   "metadata": {},
   "outputs": [],
   "source": [
    "import pytorch_lightning as pl\n",
    "from pytorch_lightning.loggers import TensorBoardLogger"
   ]
  },
  {
   "cell_type": "code",
   "execution_count": 12,
   "metadata": {},
   "outputs": [],
   "source": [
    "class VGGMNIST(pl.LightningModule):\n",
    "  def __init__(self):\n",
    "        super(VGGMNIST, self).__init__()\n",
    "        # 定义卷积块 1\n",
    "        self.conv_block1 = nn.Sequential(\n",
    "            nn.Conv2d(1, 64, kernel_size=3, padding=1),  # 输入通道为 1，输出通道为 64\n",
    "            nn.ReLU(),\n",
    "            nn.MaxPool2d(kernel_size=2, stride=2)  # 尺寸减半\n",
    "        )\n",
    "        # 定义卷积块 2\n",
    "        self.conv_block2 = nn.Sequential(\n",
    "            nn.Conv2d(64, 128, kernel_size=3, padding=1),  # 输入 64，输出 128\n",
    "            nn.ReLU(),\n",
    "            nn.MaxPool2d(kernel_size=2, stride=2)  # 再次减半\n",
    "        )\n",
    "        # 定义全连接层\n",
    "        self.fc1 = nn.Linear(128 * 7 * 7, 256)  # 128 个通道，7x7 尺寸\n",
    "        self.fc2 = nn.Linear(256, 10)  # 最终输出 10 类\n",
    "\n",
    "        # 损失函数\n",
    "        self.loss = nn.CrossEntropyLoss()\n",
    "\n",
    "  def forward(self, x):\n",
    "        # 前向传播\n",
    "        x = self.conv_block1(x)  # 卷积块 1\n",
    "        x = self.conv_block2(x)  # 卷积块 2\n",
    "        x = x.view(x.size(0), -1)  # 展平\n",
    "        x = F.relu(self.fc1(x))  # 全连接层 1\n",
    "        x = self.fc2(x)  # 全连接层 2\n",
    "        return x\n",
    "\n",
    "  def training_step(self, batch, batch_no):\n",
    "    # implement single training step\n",
    "    x, y = batch\n",
    "    logits = self(x)\n",
    "    loss = self.loss(logits, y)\n",
    "    accuracy = (logits.argmax(dim=1) == y).float().mean()\n",
    "    self.log(\"train_loss\", loss)\n",
    "    self.log(\"train_accuracy\", accuracy)\n",
    "    return loss\n",
    "  \n",
    "  def configure_optimizers(self):\n",
    "    # choose your optimizer\n",
    "    return torch.optim.RMSprop(self.parameters(), lr=0.0008)"
   ]
  },
  {
   "cell_type": "code",
   "execution_count": 13,
   "metadata": {},
   "outputs": [
    {
     "name": "stderr",
     "output_type": "stream",
     "text": [
      "d:\\Anaconda\\lib\\site-packages\\lightning_fabric\\connector.py:571: `precision=16` is supported for historical reasons but its usage is discouraged. Please set your precision to 16-mixed instead!\n",
      "Using 16bit Automatic Mixed Precision (AMP)\n",
      "GPU available: True (cuda), used: True\n",
      "TPU available: False, using: 0 TPU cores\n",
      "HPU available: False, using: 0 HPUs\n",
      "You are using a CUDA device ('NVIDIA GeForce RTX 4060 Laptop GPU') that has Tensor Cores. To properly utilize them, you should set `torch.set_float32_matmul_precision('medium' | 'high')` which will trade-off precision for performance. For more details, read https://pytorch.org/docs/stable/generated/torch.set_float32_matmul_precision.html#torch.set_float32_matmul_precision\n",
      "LOCAL_RANK: 0 - CUDA_VISIBLE_DEVICES: [0]\n",
      "\n",
      "  | Name        | Type             | Params | Mode \n",
      "---------------------------------------------------------\n",
      "0 | conv_block1 | Sequential       | 640    | train\n",
      "1 | conv_block2 | Sequential       | 73.9 K | train\n",
      "2 | fc1         | Linear           | 1.6 M  | train\n",
      "3 | fc2         | Linear           | 2.6 K  | train\n",
      "4 | loss        | CrossEntropyLoss | 0      | train\n",
      "---------------------------------------------------------\n",
      "1.7 M     Trainable params\n",
      "0         Non-trainable params\n",
      "1.7 M     Total params\n",
      "6.732     Total estimated model params size (MB)\n",
      "11        Modules in train mode\n",
      "0         Modules in eval mode\n",
      "d:\\Anaconda\\lib\\site-packages\\pytorch_lightning\\trainer\\connectors\\data_connector.py:424: The 'train_dataloader' does not have many workers which may be a bottleneck. Consider increasing the value of the `num_workers` argument` to `num_workers=15` in the `DataLoader` to improve performance.\n"
     ]
    },
    {
     "data": {
      "application/vnd.jupyter.widget-view+json": {
       "model_id": "528be2fab8184b848700c8b264b45e29",
       "version_major": 2,
       "version_minor": 0
      },
      "text/plain": [
       "Training: |          | 0/? [00:00<?, ?it/s]"
      ]
     },
     "metadata": {},
     "output_type": "display_data"
    },
    {
     "name": "stderr",
     "output_type": "stream",
     "text": [
      "`Trainer.fit` stopped: `max_epochs=1` reached.\n"
     ]
    }
   ],
   "source": [
    "model = VGGMNIST()\n",
    "logger = TensorBoardLogger(\"mnist_logs\", name=\"vgg\")\n",
    "trainer = pl.Trainer(\n",
    "    devices=1,           \n",
    "    accelerator='gpu', \n",
    "    max_epochs=1, # set number of epochs\n",
    "   enable_progress_bar=True,\n",
    "   precision=16,\n",
    "   logger=logger \n",
    ")\n",
    "trainer.fit(model, train_loader)"
   ]
  },
  {
   "cell_type": "code",
   "execution_count": 14,
   "metadata": {},
   "outputs": [],
   "source": [
    "trainer.save_checkpoint(\"VGG_mnist.pt\")"
   ]
  },
  {
   "cell_type": "code",
   "execution_count": 15,
   "metadata": {},
   "outputs": [],
   "source": [
    "from tqdm.autonotebook import tqdm\n",
    "\n",
    "def get_prediction(x, model: pl.LightningModule):\n",
    "  model.freeze() # prepares model for predicting\n",
    "  probabilities = torch.softmax(model(x), dim=1)\n",
    "  predicted_class = torch.argmax(probabilities, dim=1)\n",
    "  return predicted_class, probabilities\n",
    "\n",
    "inference_model = VGGMNIST.load_from_checkpoint(\"VGG_mnist.pt\", map_location=\"cuda\")"
   ]
  },
  {
   "cell_type": "code",
   "execution_count": 16,
   "metadata": {},
   "outputs": [
    {
     "data": {
      "application/vnd.jupyter.widget-view+json": {
       "model_id": "7aed0066a7c04cfe9bd9cf29fbb27f24",
       "version_major": 2,
       "version_minor": 0
      },
      "text/plain": [
       "  0%|          | 0/313 [00:00<?, ?it/s]"
      ]
     },
     "metadata": {},
     "output_type": "display_data"
    }
   ],
   "source": [
    "true_y, pred_y = [], []\n",
    "for batch in tqdm(iter(all_batches), total=len(all_batches)):\n",
    "  x, y = batch\n",
    "  true_y.extend(y.cpu())\n",
    "  preds, probs = get_prediction(x, inference_model)\n",
    "  pred_y.extend(preds.cpu())"
   ]
  },
  {
   "cell_type": "code",
   "execution_count": 17,
   "metadata": {},
   "outputs": [
    {
     "name": "stdout",
     "output_type": "stream",
     "text": [
      "              precision    recall  f1-score   support\n",
      "\n",
      "           0      0.995     0.991     0.993       980\n",
      "           1      0.994     0.996     0.995      1135\n",
      "           2      0.986     0.989     0.987      1032\n",
      "           3      0.994     0.982     0.988      1010\n",
      "           4      0.991     0.992     0.991       982\n",
      "           5      0.991     0.978     0.984       892\n",
      "           6      0.980     0.993     0.987       958\n",
      "           7      0.988     0.974     0.981      1028\n",
      "           8      0.980     0.993     0.986       974\n",
      "           9      0.975     0.986     0.981      1009\n",
      "\n",
      "    accuracy                          0.987     10000\n",
      "   macro avg      0.987     0.987     0.987     10000\n",
      "weighted avg      0.987     0.987     0.987     10000\n",
      "\n"
     ]
    }
   ],
   "source": [
    "from sklearn.metrics import classification_report\n",
    "print(classification_report(true_y, pred_y, digits=3))"
   ]
  },
  {
   "cell_type": "code",
   "execution_count": null,
   "metadata": {},
   "outputs": [],
   "source": []
  }
 ],
 "metadata": {
  "kernelspec": {
   "display_name": "base",
   "language": "python",
   "name": "python3"
  },
  "language_info": {
   "codemirror_mode": {
    "name": "ipython",
    "version": 3
   },
   "file_extension": ".py",
   "mimetype": "text/x-python",
   "name": "python",
   "nbconvert_exporter": "python",
   "pygments_lexer": "ipython3",
   "version": "3.8.20"
  }
 },
 "nbformat": 4,
 "nbformat_minor": 2
}
