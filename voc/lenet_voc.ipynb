{
 "cells": [
  {
   "cell_type": "code",
   "execution_count": 63,
   "metadata": {},
   "outputs": [],
   "source": [
    "import os\n",
    "from PIL import Image\n",
    "import torch\n",
    "from torch.utils.data import Dataset, DataLoader, random_split\n",
    "from torchvision import transforms\n",
    "from tqdm import tqdm\n",
    "\n",
    "# 图像预处理：统一大小并进行标准化\n",
    "transform = transforms.Compose([\n",
    "    transforms.Resize((32, 32)),  \n",
    "    transforms.ToTensor(),       \n",
    "    transforms.Normalize((0.5,), (0.5,))  \n",
    "])\n",
    "\n",
    "# 自定义数据集类，用于加载图像和标签\n",
    "class TinySegDataset(Dataset):\n",
    "    def __init__(self, annotations_file, img_dir, transform=None):\n",
    "        \"\"\"\n",
    "        :param annotations_file: 标签文件路径\n",
    "        :param img_dir: 图像所在的目录\n",
    "        :param transform: 图像预处理\n",
    "        \"\"\"\n",
    "        self.annotations_file = annotations_file\n",
    "        self.img_dir = img_dir\n",
    "        self.transform = transform\n",
    "        \n",
    "        # 读取标签文件\n",
    "        with open(annotations_file, 'r') as f:\n",
    "            self.annotations = f.readlines()\n",
    "        \n",
    "    def __len__(self):\n",
    "        return len(self.annotations)\n",
    "    \n",
    "    def __getitem__(self, idx):\n",
    "        # 获取标签和图像路径\n",
    "        line = self.annotations[idx].strip()\n",
    "        img_name, label = line.split(\": \")\n",
    "        img_path = os.path.join(self.img_dir, img_name)\n",
    "        \n",
    "        # 打开图像\n",
    "        image = Image.open(img_path).convert('RGB')\n",
    "        \n",
    "        # 应用预处理\n",
    "        if self.transform:\n",
    "            image = self.transform(image)\n",
    "        \n",
    "        return image, int(label)\n",
    "\n",
    "# 实例化数据集\n",
    "annotations_file = r\"C:\\Users\\Yet Young\\Desktop\\documents\\ML\\tiny_seg_exp\\TinySeg\\labels.txt\"  # 替换为你的标签文件路径\n",
    "img_dir = r\"C:\\Users\\Yet Young\\Desktop\\documents\\ML\\tiny_seg_exp\\TinySeg\\Annotations\"  # 图像所在的目录\n",
    "dataset = TinySegDataset(annotations_file, img_dir, transform)\n",
    "\n",
    "test_size = 624\n",
    "train_size = len(dataset) - test_size\n",
    "\n",
    "# 切分数据集\n",
    "train_dataset, test_dataset = torch.utils.data.random_split(dataset, [train_size, test_size])\n",
    "\n",
    "# 创建数据加载器\n",
    "train_loader = DataLoader(train_dataset, batch_size=64, shuffle=True, num_workers=0)\n",
    "test_loader = DataLoader(test_dataset, batch_size=64, shuffle=False, num_workers=0)\n"
   ]
  },
  {
   "cell_type": "code",
   "execution_count": 64,
   "metadata": {},
   "outputs": [],
   "source": [
    "import torch\n",
    "import torch.nn as nn\n",
    "from torch.optim import SGD\n",
    "\n",
    "# LeNet 模型定义\n",
    "class LeNet(nn.Module):\n",
    "    def __init__(self, num_classes=10):\n",
    "        super(LeNet, self).__init__()\n",
    "        # 第一层卷积：输入通道为 3，输出通道为 6\n",
    "        self.conv1 = nn.Conv2d(3, 6, kernel_size=5)  \n",
    "        self.pool1 = nn.MaxPool2d(kernel_size=2, stride=2)  # 输出尺寸: (6, 14, 14)\n",
    "        \n",
    "        # 第二层卷积：输入通道为 6，输出通道为 16\n",
    "        self.conv2 = nn.Conv2d(6, 16, kernel_size=5)  # 输出尺寸: (16, 5, 5)\n",
    "        self.pool2 = nn.MaxPool2d(kernel_size=2, stride=2)  # 输出尺寸: (16, 5, 5)\n",
    "        \n",
    "        # 全连接层：根据卷积输出调整输入尺寸\n",
    "        self.fc1 = nn.Linear(16 * 5 * 5, 120)  # 输入尺寸为 16 * 5 * 5 = 400\n",
    "        self.fc2 = nn.Linear(120, 84)\n",
    "        self.fc3 = nn.Linear(84, num_classes)\n",
    "\n",
    "    def forward(self, x):\n",
    "        x = self.pool1(torch.relu(self.conv1(x)))\n",
    "        x = self.pool2(torch.relu(self.conv2(x)))\n",
    "\n",
    "        x = x.view(x.size(0), -1)  # 展平\n",
    "\n",
    "        x = torch.relu(self.fc1(x))\n",
    "        x = torch.relu(self.fc2(x))\n",
    "        x = self.fc3(x)  # 输出\n",
    "        return x\n"
   ]
  },
  {
   "cell_type": "code",
   "execution_count": 65,
   "metadata": {},
   "outputs": [],
   "source": [
    "import pytorch_lightning as pl\n",
    "from pytorch_lightning.loggers import TensorBoardLogger\n",
    "from torch.utils.data import DataLoader\n",
    "from torchvision import transforms\n",
    "from torch.optim import SGD\n",
    "from torchvision import datasets\n",
    "\n",
    "# 定义 LeNet Lightning 模型\n",
    "class LeNetLightning(pl.LightningModule):\n",
    "    def __init__(self, num_classes=5):\n",
    "        super().__init__()\n",
    "        self.model = LeNet(num_classes=num_classes)\n",
    "        self.loss_fn = nn.CrossEntropyLoss()\n",
    "\n",
    "    def forward(self, x):\n",
    "        return self.model(x)\n",
    "\n",
    "    def training_step(self, batch, batch_idx):\n",
    "        x, y = batch\n",
    "        logits = self(x)\n",
    "        loss = self.loss_fn(logits, y)\n",
    "        accuracy = (logits.argmax(dim=1) == y).float().mean()\n",
    "        self.log(\"train_loss\", loss)\n",
    "        self.log(\"train_accuracy\", accuracy)\n",
    "        return loss\n",
    "\n",
    "    def configure_optimizers(self):\n",
    "        return SGD(self.parameters(), lr=0.02, momentum=0.9)\n"
   ]
  },
  {
   "cell_type": "code",
   "execution_count": 66,
   "metadata": {},
   "outputs": [
    {
     "name": "stderr",
     "output_type": "stream",
     "text": [
      "GPU available: True (cuda), used: True\n",
      "TPU available: False, using: 0 TPU cores\n",
      "HPU available: False, using: 0 HPUs\n",
      "LOCAL_RANK: 0 - CUDA_VISIBLE_DEVICES: [0]\n",
      "\n",
      "  | Name    | Type             | Params | Mode \n",
      "-----------------------------------------------------\n",
      "0 | model   | LeNet            | 61.6 K | train\n",
      "1 | loss_fn | CrossEntropyLoss | 0      | train\n",
      "-----------------------------------------------------\n",
      "61.6 K    Trainable params\n",
      "0         Non-trainable params\n",
      "61.6 K    Total params\n",
      "0.246     Total estimated model params size (MB)\n",
      "9         Modules in train mode\n",
      "0         Modules in eval mode\n",
      "d:\\Anaconda\\lib\\site-packages\\pytorch_lightning\\trainer\\connectors\\data_connector.py:424: The 'train_dataloader' does not have many workers which may be a bottleneck. Consider increasing the value of the `num_workers` argument` to `num_workers=15` in the `DataLoader` to improve performance.\n"
     ]
    },
    {
     "data": {
      "application/vnd.jupyter.widget-view+json": {
       "model_id": "8eeeda5625004c18a5fa54005a9f8eb8",
       "version_major": 2,
       "version_minor": 0
      },
      "text/plain": [
       "Training: |          | 0/? [00:00<?, ?it/s]"
      ]
     },
     "metadata": {},
     "output_type": "display_data"
    },
    {
     "name": "stderr",
     "output_type": "stream",
     "text": [
      "`Trainer.fit` stopped: `max_epochs=5` reached.\n"
     ]
    }
   ],
   "source": [
    "# 初始化模型\n",
    "model = LeNetLightning()\n",
    "\n",
    "# TensorBoard Logger\n",
    "logger = TensorBoardLogger(\"voc_logs\", name=\"lenet\")\n",
    "\n",
    "# 创建 PyTorch Lightning Trainer\n",
    "trainer = pl.Trainer(\n",
    "    devices=1,           # 使用 1 个 GPU\n",
    "    accelerator='gpu',   # 使用 GPU 加速\n",
    "    max_epochs = 5,        # 设置训练的 epoch 数量\n",
    "    enable_progress_bar=True,\n",
    "    logger=logger \n",
    ")\n",
    "\n",
    "# 开始训练\n",
    "trainer.fit(model, train_loader)\n",
    "\n",
    "# 保存训练好的模型\n",
    "trainer.save_checkpoint(\"lenet_voc_trained.pt\")\n"
   ]
  },
  {
   "cell_type": "code",
   "execution_count": 67,
   "metadata": {},
   "outputs": [
    {
     "name": "stderr",
     "output_type": "stream",
     "text": [
      "100%|██████████| 10/10 [00:00<00:00, 12.77it/s]"
     ]
    },
    {
     "name": "stdout",
     "output_type": "stream",
     "text": [
      "              precision    recall  f1-score   support\n",
      "\n",
      "           0      0.981     0.883     0.930        60\n",
      "           1      0.980     1.000     0.990        50\n",
      "           2      0.968     0.983     0.975       343\n",
      "           3      0.907     0.975     0.940        80\n",
      "           4      0.953     0.890     0.920        91\n",
      "\n",
      "    accuracy                          0.960       624\n",
      "   macro avg      0.958     0.946     0.951       624\n",
      "weighted avg      0.960     0.960     0.960       624\n",
      "\n"
     ]
    },
    {
     "name": "stderr",
     "output_type": "stream",
     "text": [
      "\n"
     ]
    }
   ],
   "source": [
    "# 加载训练后的模型\n",
    "inference_model = LeNetLightning.load_from_checkpoint(\"lenet_voc_trained.pt\", map_location=\"cuda\")\n",
    "inference_model.eval()  # 设置为评估模式\n",
    "\n",
    "# 推断函数\n",
    "def get_prediction(x, model: pl.LightningModule):\n",
    "    model.freeze()  # 准备模型进行预测\n",
    "    probabilities = torch.softmax(model(x), dim=1)\n",
    "    predicted_class = torch.argmax(probabilities, dim=1)\n",
    "    return predicted_class, probabilities\n",
    "\n",
    "# 进行推断\n",
    "true_y, pred_y = [], []\n",
    "\n",
    "for batch in tqdm(test_loader, total=len(test_loader)):\n",
    "    x, y = batch\n",
    "    x = x.to(\"cuda\")  # 将数据放到GPU\n",
    "\n",
    "    # 获取预测结果\n",
    "    preds, _ = get_prediction(x, inference_model)\n",
    "    \n",
    "    true_y.extend(y.cpu().numpy())  # 收集真实标签\n",
    "    pred_y.extend(preds.cpu().numpy())  # 收集预测标签\n",
    "\n",
    "# 输出分类报告\n",
    "from sklearn.metrics import classification_report\n",
    "print(classification_report(true_y, pred_y, digits=3))\n"
   ]
  }
 ],
 "metadata": {
  "kernelspec": {
   "display_name": "base",
   "language": "python",
   "name": "python3"
  },
  "language_info": {
   "codemirror_mode": {
    "name": "ipython",
    "version": 3
   },
   "file_extension": ".py",
   "mimetype": "text/x-python",
   "name": "python",
   "nbconvert_exporter": "python",
   "pygments_lexer": "ipython3",
   "version": "3.8.20"
  }
 },
 "nbformat": 4,
 "nbformat_minor": 2
}
