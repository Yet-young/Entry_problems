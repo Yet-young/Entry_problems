{
 "cells": [
  {
   "cell_type": "code",
   "execution_count": 91,
   "metadata": {},
   "outputs": [],
   "source": [
    "import os\n",
    "from PIL import Image\n",
    "import torch\n",
    "from torch.utils.data import Dataset, DataLoader, random_split\n",
    "from torchvision import transforms\n",
    "from tqdm import tqdm\n",
    "\n",
    "# 图像预处理：统一大小并进行标准化\n",
    "transform = transforms.Compose([\n",
    "    transforms.Resize((32, 32)),  \n",
    "    transforms.ToTensor(),      \n",
    "    transforms.Normalize((0.5,), (0.5,)) \n",
    "])\n",
    "\n",
    "# 自定义数据集类，用于加载图像和标签\n",
    "class TinySegDataset(Dataset):\n",
    "    def __init__(self, annotations_file, img_dir, transform=None):\n",
    "        \"\"\"\n",
    "        :param annotations_file: 标签文件路径\n",
    "        :param img_dir: 图像所在的目录\n",
    "        :param transform: 图像预处理\n",
    "        \"\"\"\n",
    "        self.annotations_file = annotations_file\n",
    "        self.img_dir = img_dir\n",
    "        self.transform = transform\n",
    "        \n",
    "        # 读取标签文件\n",
    "        with open(annotations_file, 'r') as f:\n",
    "            self.annotations = f.readlines()\n",
    "        \n",
    "    def __len__(self):\n",
    "        return len(self.annotations)\n",
    "    \n",
    "    def __getitem__(self, idx):\n",
    "        # 获取标签和图像路径\n",
    "        line = self.annotations[idx].strip()\n",
    "        img_name, label = line.split(\": \")\n",
    "        img_path = os.path.join(self.img_dir, img_name)\n",
    "        \n",
    "        # 打开图像\n",
    "        image = Image.open(img_path).convert('RGB')\n",
    "        \n",
    "        # 应用预处理\n",
    "        if self.transform:\n",
    "            image = self.transform(image)\n",
    "        \n",
    "        return image, int(label)\n",
    "\n",
    "# 实例化数据集\n",
    "annotations_file = r\"C:\\Users\\Yet Young\\Desktop\\documents\\ML\\tiny_seg_exp\\TinySeg\\labels.txt\"  # 替换为你的标签文件路径\n",
    "img_dir = r\"C:\\Users\\Yet Young\\Desktop\\documents\\ML\\tiny_seg_exp\\TinySeg\\Annotations\"  # 图像所在的目录\n",
    "dataset = TinySegDataset(annotations_file, img_dir, transform)\n",
    "\n",
    "\n",
    "test_size = 624\n",
    "train_size = len(dataset) - test_size\n",
    "\n",
    "# 切分数据集\n",
    "train_dataset, test_dataset = torch.utils.data.random_split(dataset, [train_size, test_size])\n",
    "\n",
    "# 创建数据加载器\n",
    "train_loader = DataLoader(train_dataset, batch_size=64, shuffle=True, num_workers=0)\n",
    "test_loader = DataLoader(test_dataset, batch_size=64, shuffle=False, num_workers=0)\n"
   ]
  },
  {
   "cell_type": "code",
   "execution_count": 92,
   "metadata": {},
   "outputs": [],
   "source": [
    "import pytorch_lightning as pl\n",
    "from pytorch_lightning.loggers import TensorBoardLogger\n",
    "from torchvision.models import resnet18\n",
    "model = resnet18(num_classes=10)\n",
    "import torch\n",
    "import torch.nn as nn\n",
    "\n",
    "\n",
    "class ResNetVOC(pl.LightningModule):\n",
    "  def __init__(self):\n",
    "    super().__init__()\n",
    "    # define model and loss\n",
    "    self.model = resnet18(num_classes=5)\n",
    "    self.model.conv1 = nn.Conv2d(3, 64, kernel_size=(7, 7), stride=(2, 2), padding=(3, 3), bias=False)\n",
    "    self.loss = nn.CrossEntropyLoss()\n",
    "\n",
    "  def forward(self, x):\n",
    "    return self.model(x)\n",
    "  \n",
    "  def training_step(self, batch, batch_no):\n",
    "    # implement single training step\n",
    "    x, y = batch\n",
    "    logits = self(x)\n",
    "    loss = self.loss(logits, y)\n",
    "    accuracy = (logits.argmax(dim=1) == y).float().mean()\n",
    "    self.log(\"train_loss\", loss)\n",
    "    self.log(\"train_accuracy\", accuracy)\n",
    "    return loss\n",
    "  \n",
    "  def configure_optimizers(self):\n",
    "    # choose your optimizer\n",
    "    return torch.optim.RMSprop(self.parameters(), lr=0.005)\n",
    "\n"
   ]
  },
  {
   "cell_type": "code",
   "execution_count": 95,
   "metadata": {},
   "outputs": [
    {
     "name": "stderr",
     "output_type": "stream",
     "text": [
      "GPU available: True (cuda), used: True\n",
      "TPU available: False, using: 0 TPU cores\n",
      "HPU available: False, using: 0 HPUs\n",
      "LOCAL_RANK: 0 - CUDA_VISIBLE_DEVICES: [0]\n",
      "\n",
      "  | Name  | Type             | Params | Mode \n",
      "---------------------------------------------------\n",
      "0 | model | ResNet           | 11.2 M | train\n",
      "1 | loss  | CrossEntropyLoss | 0      | train\n",
      "---------------------------------------------------\n",
      "11.2 M    Trainable params\n",
      "0         Non-trainable params\n",
      "11.2 M    Total params\n",
      "44.716    Total estimated model params size (MB)\n",
      "69        Modules in train mode\n",
      "0         Modules in eval mode\n",
      "d:\\Anaconda\\lib\\site-packages\\pytorch_lightning\\trainer\\connectors\\data_connector.py:424: The 'train_dataloader' does not have many workers which may be a bottleneck. Consider increasing the value of the `num_workers` argument` to `num_workers=15` in the `DataLoader` to improve performance.\n"
     ]
    },
    {
     "data": {
      "application/vnd.jupyter.widget-view+json": {
       "model_id": "94241f4a58194684b4245ad505b721ad",
       "version_major": 2,
       "version_minor": 0
      },
      "text/plain": [
       "Training: |          | 0/? [00:00<?, ?it/s]"
      ]
     },
     "metadata": {},
     "output_type": "display_data"
    },
    {
     "name": "stderr",
     "output_type": "stream",
     "text": [
      "`Trainer.fit` stopped: `max_epochs=5` reached.\n"
     ]
    }
   ],
   "source": [
    "model = ResNetVOC()\n",
    "logger = TensorBoardLogger(\"voc_logs\", name=\"resnet\")\n",
    "trainer = pl.Trainer(\n",
    "    devices=1,           \n",
    "    accelerator='gpu', \n",
    "    max_epochs=5, # set number of epochs\n",
    "   enable_progress_bar=True,\n",
    "   logger=logger \n",
    ")\n",
    "trainer.fit(model, train_loader)\n",
    "# 保存训练好的模型\n",
    "trainer.save_checkpoint(\"resnet_voc_trained.pt\")"
   ]
  },
  {
   "cell_type": "code",
   "execution_count": 96,
   "metadata": {},
   "outputs": [
    {
     "name": "stderr",
     "output_type": "stream",
     "text": [
      "100%|██████████| 10/10 [00:01<00:00,  9.35it/s]"
     ]
    },
    {
     "name": "stdout",
     "output_type": "stream",
     "text": [
      "              precision    recall  f1-score   support\n",
      "\n",
      "           0      0.959     0.979     0.969        48\n",
      "           1      1.000     1.000     1.000        41\n",
      "           2      0.978     0.986     0.982       364\n",
      "           3      1.000     1.000     1.000        97\n",
      "           4      0.957     0.905     0.931        74\n",
      "\n",
      "    accuracy                          0.979       624\n",
      "   macro avg      0.979     0.974     0.976       624\n",
      "weighted avg      0.979     0.979     0.979       624\n",
      "\n"
     ]
    },
    {
     "name": "stderr",
     "output_type": "stream",
     "text": [
      "\n"
     ]
    }
   ],
   "source": [
    "# 加载训练后的模型\n",
    "inference_model = ResNetVOC.load_from_checkpoint(\"resnet_voc_trained.pt\", map_location=\"cuda\")\n",
    "inference_model.eval()  # 设置为评估模式\n",
    "\n",
    "# 推断函数\n",
    "def get_prediction(x, model: pl.LightningModule):\n",
    "    model.freeze()  # 准备模型进行预测\n",
    "    probabilities = torch.softmax(model(x), dim=1)\n",
    "    predicted_class = torch.argmax(probabilities, dim=1)\n",
    "    return predicted_class, probabilities\n",
    "\n",
    "# 进行推断\n",
    "true_y, pred_y = [], []\n",
    "\n",
    "for batch in tqdm(test_loader, total=len(test_loader)):\n",
    "    x, y = batch\n",
    "    x = x.to(\"cuda\")  # 将数据放到GPU\n",
    "\n",
    "    # 获取预测结果\n",
    "    preds, _ = get_prediction(x, inference_model)\n",
    "    \n",
    "    true_y.extend(y.cpu().numpy())  # 收集真实标签\n",
    "    pred_y.extend(preds.cpu().numpy())  # 收集预测标签\n",
    "\n",
    "# 输出分类报告\n",
    "from sklearn.metrics import classification_report\n",
    "print(classification_report(true_y, pred_y, digits=3))\n"
   ]
  },
  {
   "cell_type": "code",
   "execution_count": null,
   "metadata": {},
   "outputs": [],
   "source": []
  }
 ],
 "metadata": {
  "kernelspec": {
   "display_name": "base",
   "language": "python",
   "name": "python3"
  },
  "language_info": {
   "codemirror_mode": {
    "name": "ipython",
    "version": 3
   },
   "file_extension": ".py",
   "mimetype": "text/x-python",
   "name": "python",
   "nbconvert_exporter": "python",
   "pygments_lexer": "ipython3",
   "version": "3.8.20"
  }
 },
 "nbformat": 4,
 "nbformat_minor": 2
}
