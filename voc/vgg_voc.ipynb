{
 "cells": [
  {
   "cell_type": "code",
   "execution_count": 102,
   "metadata": {},
   "outputs": [],
   "source": [
    "import os\n",
    "from PIL import Image\n",
    "import torch\n",
    "from torch.utils.data import Dataset, DataLoader, random_split\n",
    "from torchvision import transforms\n",
    "from tqdm import tqdm\n",
    "\n",
    "# 图像预处理：统一大小并进行标准化\n",
    "transform = transforms.Compose([\n",
    "    transforms.Resize((32, 32)),  \n",
    "    transforms.ToTensor(),        \n",
    "    transforms.Normalize((0.5,), (0.5,))  \n",
    "])\n",
    "\n",
    "# 自定义数据集类，用于加载图像和标签\n",
    "class TinySegDataset(Dataset):\n",
    "    def __init__(self, annotations_file, img_dir, transform=None):\n",
    "        \"\"\"\n",
    "        :param annotations_file: 标签文件路径\n",
    "        :param img_dir: 图像所在的目录\n",
    "        :param transform: 图像预处理\n",
    "        \"\"\"\n",
    "        self.annotations_file = annotations_file\n",
    "        self.img_dir = img_dir\n",
    "        self.transform = transform\n",
    "        \n",
    "        # 读取标签文件\n",
    "        with open(annotations_file, 'r') as f:\n",
    "            self.annotations = f.readlines()\n",
    "        \n",
    "    def __len__(self):\n",
    "        return len(self.annotations)\n",
    "    \n",
    "    def __getitem__(self, idx):\n",
    "        # 获取标签和图像路径\n",
    "        line = self.annotations[idx].strip()\n",
    "        img_name, label = line.split(\": \")\n",
    "        img_path = os.path.join(self.img_dir, img_name)\n",
    "        \n",
    "        # 打开图像\n",
    "        image = Image.open(img_path).convert('RGB')\n",
    "        \n",
    "        # 应用预处理\n",
    "        if self.transform:\n",
    "            image = self.transform(image)\n",
    "        \n",
    "        return image, int(label)\n",
    "\n",
    "# 实例化数据集\n",
    "annotations_file = r\"C:\\Users\\Yet Young\\Desktop\\documents\\ML\\tiny_seg_exp\\TinySeg\\labels.txt\"  # 替换为你的标签文件路径\n",
    "img_dir = r\"C:\\Users\\Yet Young\\Desktop\\documents\\ML\\tiny_seg_exp\\TinySeg\\Annotations\"  # 图像所在的目录\n",
    "dataset = TinySegDataset(annotations_file, img_dir, transform)\n",
    "\n",
    "\n",
    "test_size = 624\n",
    "train_size = len(dataset) - test_size\n",
    "\n",
    "# 切分数据集\n",
    "train_dataset, test_dataset = torch.utils.data.random_split(dataset, [train_size, test_size])\n",
    "\n",
    "# 创建数据加载器\n",
    "train_loader = DataLoader(train_dataset, batch_size=64, shuffle=True, num_workers=0)\n",
    "test_loader = DataLoader(test_dataset, batch_size=64, shuffle=False, num_workers=0)\n"
   ]
  },
  {
   "cell_type": "code",
   "execution_count": 109,
   "metadata": {},
   "outputs": [],
   "source": [
    "import pytorch_lightning as pl\n",
    "from pytorch_lightning.loggers import TensorBoardLogger\n",
    "import torch.nn.functional as F\n",
    "import torch\n",
    "import torch.nn as nn\n",
    "\n",
    "\n",
    "class VGGVOC(pl.LightningModule):\n",
    "    def __init__(self):\n",
    "        super(VGGVOC, self).__init__()\n",
    "        \n",
    "        # 定义卷积块 1\n",
    "        self.conv_block1 = nn.Sequential(\n",
    "            nn.Conv2d(3, 64, kernel_size=3, padding=1),  # 输入通道为 3，输出通道为 64\n",
    "            nn.ReLU(),\n",
    "            nn.MaxPool2d(kernel_size=2, stride=2)  # 尺寸减半\n",
    "        )\n",
    "        \n",
    "        # 定义卷积块 2\n",
    "        self.conv_block2 = nn.Sequential(\n",
    "            nn.Conv2d(64, 128, kernel_size=3, padding=1),  # 输入 64，输出 128\n",
    "            nn.ReLU(),\n",
    "            nn.MaxPool2d(kernel_size=2, stride=2)  # 再次减半\n",
    "        )\n",
    "\n",
    "        # 定义全连接层\n",
    "        self.fc1 = nn.Linear(128 * 8 * 8, 256)  # 调整全连接层输入尺寸，128个通道，8x8尺寸\n",
    "        self.fc2 = nn.Linear(256, 5)  # 最终输出 5 类（调整为5类）\n",
    "\n",
    "        # 损失函数\n",
    "        self.loss = nn.CrossEntropyLoss()\n",
    "\n",
    "    def forward(self, x):\n",
    "        # 前向传播\n",
    "        x = self.conv_block1(x)  # 卷积块 1\n",
    "        x = self.conv_block2(x)  # 卷积块 2\n",
    "        x = x.view(x.size(0), -1)  # 展平\n",
    "        x = F.relu(self.fc1(x))  # 全连接层 1\n",
    "        x = self.fc2(x)  # 全连接层 2\n",
    "        return x\n",
    "\n",
    "    def training_step(self, batch, batch_no):\n",
    "        # implement single training step\n",
    "        x, y = batch\n",
    "        logits = self(x)\n",
    "        loss = self.loss(logits, y)\n",
    "        accuracy = (logits.argmax(dim=1) == y).float().mean()\n",
    "        self.log(\"train_loss\", loss)\n",
    "        self.log(\"train_accuracy\", accuracy)\n",
    "        return loss\n",
    "\n",
    "    def configure_optimizers(self):\n",
    "        # choose your optimizer\n",
    "        return torch.optim.RMSprop(self.parameters(), lr=0.005)\n"
   ]
  },
  {
   "cell_type": "code",
   "execution_count": 110,
   "metadata": {},
   "outputs": [
    {
     "name": "stderr",
     "output_type": "stream",
     "text": [
      "GPU available: True (cuda), used: True\n",
      "TPU available: False, using: 0 TPU cores\n",
      "HPU available: False, using: 0 HPUs\n",
      "LOCAL_RANK: 0 - CUDA_VISIBLE_DEVICES: [0]\n",
      "\n",
      "  | Name        | Type             | Params | Mode \n",
      "---------------------------------------------------------\n",
      "0 | conv_block1 | Sequential       | 1.8 K  | train\n",
      "1 | conv_block2 | Sequential       | 73.9 K | train\n",
      "2 | fc1         | Linear           | 2.1 M  | train\n",
      "3 | fc2         | Linear           | 1.3 K  | train\n",
      "4 | loss        | CrossEntropyLoss | 0      | train\n",
      "---------------------------------------------------------\n",
      "2.2 M     Trainable params\n",
      "0         Non-trainable params\n",
      "2.2 M     Total params\n",
      "8.697     Total estimated model params size (MB)\n",
      "11        Modules in train mode\n",
      "0         Modules in eval mode\n",
      "d:\\Anaconda\\lib\\site-packages\\pytorch_lightning\\trainer\\connectors\\data_connector.py:424: The 'train_dataloader' does not have many workers which may be a bottleneck. Consider increasing the value of the `num_workers` argument` to `num_workers=15` in the `DataLoader` to improve performance.\n"
     ]
    },
    {
     "data": {
      "application/vnd.jupyter.widget-view+json": {
       "model_id": "26cf843e3d114106807089c33dba871f",
       "version_major": 2,
       "version_minor": 0
      },
      "text/plain": [
       "Training: |          | 0/? [00:00<?, ?it/s]"
      ]
     },
     "metadata": {},
     "output_type": "display_data"
    },
    {
     "name": "stderr",
     "output_type": "stream",
     "text": [
      "`Trainer.fit` stopped: `max_epochs=5` reached.\n"
     ]
    }
   ],
   "source": [
    "model = VGGVOC()\n",
    "logger = TensorBoardLogger(\"voc_logs\", name=\"vgg\")\n",
    "trainer = pl.Trainer(\n",
    "    devices=1,           \n",
    "    accelerator='gpu', \n",
    "    max_epochs=5, # set number of epochs\n",
    "   enable_progress_bar=True,\n",
    "   logger=logger \n",
    ")\n",
    "trainer.fit(model, train_loader)\n",
    "# 保存训练好的模型\n",
    "trainer.save_checkpoint(\"vgg_voc_trained.pt\")"
   ]
  },
  {
   "cell_type": "code",
   "execution_count": 111,
   "metadata": {},
   "outputs": [
    {
     "name": "stderr",
     "output_type": "stream",
     "text": [
      "100%|██████████| 10/10 [00:00<00:00, 12.42it/s]"
     ]
    },
    {
     "name": "stdout",
     "output_type": "stream",
     "text": [
      "              precision    recall  f1-score   support\n",
      "\n",
      "           0      1.000     1.000     1.000        50\n",
      "           1      0.980     1.000     0.990        49\n",
      "           2      0.970     0.997     0.984       360\n",
      "           3      1.000     0.948     0.973        96\n",
      "           4      1.000     0.913     0.955        69\n",
      "\n",
      "    accuracy                          0.981       624\n",
      "   macro avg      0.990     0.972     0.980       624\n",
      "weighted avg      0.981     0.981     0.981       624\n",
      "\n"
     ]
    },
    {
     "name": "stderr",
     "output_type": "stream",
     "text": [
      "\n"
     ]
    }
   ],
   "source": [
    "# 加载训练后的模型\n",
    "inference_model = VGGVOC.load_from_checkpoint(\"vgg_voc_trained.pt\", map_location=\"cuda\")\n",
    "inference_model.eval()  # 设置为评估模式\n",
    "\n",
    "# 推断函数\n",
    "def get_prediction(x, model: pl.LightningModule):\n",
    "    model.freeze()  # 准备模型进行预测\n",
    "    probabilities = torch.softmax(model(x), dim=1)\n",
    "    predicted_class = torch.argmax(probabilities, dim=1)\n",
    "    return predicted_class, probabilities\n",
    "\n",
    "# 进行推断\n",
    "true_y, pred_y = [], []\n",
    "\n",
    "for batch in tqdm(test_loader, total=len(test_loader)):\n",
    "    x, y = batch\n",
    "    x = x.to(\"cuda\")  # 将数据放到GPU\n",
    "\n",
    "    # 获取预测结果\n",
    "    preds, _ = get_prediction(x, inference_model)\n",
    "    \n",
    "    true_y.extend(y.cpu().numpy())  # 收集真实标签\n",
    "    pred_y.extend(preds.cpu().numpy())  # 收集预测标签\n",
    "\n",
    "# 输出分类报告\n",
    "from sklearn.metrics import classification_report\n",
    "print(classification_report(true_y, pred_y, digits=3))\n"
   ]
  },
  {
   "cell_type": "code",
   "execution_count": null,
   "metadata": {},
   "outputs": [],
   "source": []
  }
 ],
 "metadata": {
  "kernelspec": {
   "display_name": "base",
   "language": "python",
   "name": "python3"
  },
  "language_info": {
   "codemirror_mode": {
    "name": "ipython",
    "version": 3
   },
   "file_extension": ".py",
   "mimetype": "text/x-python",
   "name": "python",
   "nbconvert_exporter": "python",
   "pygments_lexer": "ipython3",
   "version": "3.8.20"
  }
 },
 "nbformat": 4,
 "nbformat_minor": 2
}
